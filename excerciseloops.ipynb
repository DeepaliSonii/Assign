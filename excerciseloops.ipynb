{
 "cells": [
  {
   "cell_type": "code",
   "execution_count": 1,
   "id": "b06fe869-ef89-4036-8224-182bc9d529ba",
   "metadata": {},
   "outputs": [
    {
     "name": "stdout",
     "output_type": "stream",
     "text": [
      "5*1=5\n",
      "5*2=10\n",
      "5*3=15\n",
      "5*4=20\n",
      "5*5=25\n",
      "5*6=30\n",
      "5*7=35\n",
      "5*8=40\n",
      "5*9=45\n",
      "5*10=50\n"
     ]
    }
   ],
   "source": [
    "#multiplication table of given number\n",
    "number=5\n",
    "for i in range(1,11):\n",
    "    print(f\"{number}*{i}={number * i}\")"
   ]
  },
  {
   "cell_type": "code",
   "execution_count": 3,
   "id": "b88cf79f-e166-45c7-a818-19521ad2706e",
   "metadata": {},
   "outputs": [
    {
     "name": "stdout",
     "output_type": "stream",
     "text": [
      "1\n",
      "2\n",
      "3\n",
      "4\n",
      "5\n",
      "6\n",
      "7\n",
      "8\n",
      "9\n",
      "10\n"
     ]
    }
   ],
   "source": [
    "#print numbers from 1 to 10\n",
    "i = 1\n",
    "while i <= 10:\n",
    "    print(i)\n",
    "    i += 1"
   ]
  },
  {
   "cell_type": "code",
   "execution_count": 8,
   "id": "ddc06061-c1cc-4af3-a8d9-a5495c0acbf5",
   "metadata": {},
   "outputs": [
    {
     "name": "stdout",
     "output_type": "stream",
     "text": [
      "15\n"
     ]
    }
   ],
   "source": [
    "# sum of all elements in a list \n",
    "numbers = [1,2,3,4,5]\n",
    "total_sum = 0\n",
    "index = 0\n",
    "while index < len(numbers):\n",
    "    total_sum += numbers[index]\n",
    "    index += 1\n",
    "print(\"sum of all element\",total_sum)"
   ]
  },
  {
   "cell_type": "code",
   "execution_count": 10,
   "id": "318aed53-c622-42e9-9ee4-1a2b19a63515",
   "metadata": {},
   "outputs": [
    {
     "name": "stdout",
     "output_type": "stream",
     "text": [
      "h\n",
      "e\n",
      "l\n",
      "l\n",
      "o\n",
      ",\n",
      " \n",
      "p\n",
      "y\n",
      "t\n",
      "h\n",
      "o\n",
      "n\n",
      "!\n"
     ]
    }
   ],
   "source": [
    "#print each character of a string\n",
    "text = \"hello, python!\"\n",
    "index=0\n",
    "while index < len(text):\n",
    "    print(text[index])\n",
    "    index += 1\n",
    "    "
   ]
  },
  {
   "cell_type": "code",
   "execution_count": null,
   "id": "30f0adef-206b-4f15-860c-a1af5657aa27",
   "metadata": {},
   "outputs": [
    {
     "name": "stdin",
     "output_type": "stream",
     "text": [
      "guess the number between 1 and 10:  4\n"
     ]
    },
    {
     "name": "stdout",
     "output_type": "stream",
     "text": [
      "too high! try again\n"
     ]
    },
    {
     "name": "stdin",
     "output_type": "stream",
     "text": [
      "guess the number between 1 and 10:  5\n"
     ]
    },
    {
     "name": "stdout",
     "output_type": "stream",
     "text": [
      "too high! try again\n"
     ]
    },
    {
     "name": "stdin",
     "output_type": "stream",
     "text": [
      "guess the number between 1 and 10:  1\n"
     ]
    },
    {
     "name": "stdout",
     "output_type": "stream",
     "text": [
      "too low! try again\n"
     ]
    },
    {
     "name": "stdin",
     "output_type": "stream",
     "text": [
      "guess the number between 1 and 10:  3\n"
     ]
    },
    {
     "name": "stdout",
     "output_type": "stream",
     "text": [
      "too high! try again\n"
     ]
    },
    {
     "name": "stdin",
     "output_type": "stream",
     "text": [
      "guess the number between 1 and 10:  11\n"
     ]
    },
    {
     "name": "stdout",
     "output_type": "stream",
     "text": [
      "too high! try again\n"
     ]
    }
   ],
   "source": [
    "#Guess the number game\n",
    "import random\n",
    "random_number = random.randint(1,10)\n",
    "guess = None\n",
    "while guess != random_number:\n",
    "    guess = int(input(\"guess the number between 1 and 10: \"))\n",
    "    if guess < random_number:\n",
    "                print(\"too low! try again\")\n",
    "    elif guess > random_number:\n",
    "                print(\"too high! try again\")\n",
    "print(\"congratulation! you guesses the number\")\n",
    "    "
   ]
  },
  {
   "cell_type": "markdown",
   "id": "177235e2-ef1c-45e2-ae2e-5f83dd479fc4",
   "metadata": {},
   "source": [
    "#program  for pattern\n",
    "rows = 5\n",
    "for i in range(i, rows + 1):\n",
    "    print(\"*\" * i)"
   ]
  },
  {
   "cell_type": "code",
   "execution_count": null,
   "id": "8cebc2a2-bbe6-45f1-ac5e-da1a05304d26",
   "metadata": {},
   "outputs": [],
   "source": []
  },
  {
   "cell_type": "code",
   "execution_count": null,
   "id": "902de05b-1866-42d1-a21b-4b7c75e37a13",
   "metadata": {},
   "outputs": [],
   "source": []
  }
 ],
 "metadata": {
  "kernelspec": {
   "display_name": "Python 3 (ipykernel)",
   "language": "python",
   "name": "python3"
  },
  "language_info": {
   "codemirror_mode": {
    "name": "ipython",
    "version": 3
   },
   "file_extension": ".py",
   "mimetype": "text/x-python",
   "name": "python",
   "nbconvert_exporter": "python",
   "pygments_lexer": "ipython3",
   "version": "3.12.4"
  }
 },
 "nbformat": 4,
 "nbformat_minor": 5
}
